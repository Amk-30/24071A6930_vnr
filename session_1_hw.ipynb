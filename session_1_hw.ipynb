{
  "nbformat": 4,
  "nbformat_minor": 0,
  "metadata": {
    "colab": {
      "provenance": []
    },
    "kernelspec": {
      "name": "python3",
      "display_name": "Python 3"
    },
    "language_info": {
      "name": "python"
    }
  },
  "cells": [
    {
      "cell_type": "code",
      "execution_count": 15,
      "metadata": {
        "colab": {
          "base_uri": "https://localhost:8080/"
        },
        "id": "qBI-P0Giq3ZD",
        "outputId": "b7ff1767-4724-4211-a3f6-44ddff636b26"
      },
      "outputs": [
        {
          "output_type": "stream",
          "name": "stdout",
          "text": [
            "33\n",
            "not prime\n"
          ]
        }
      ],
      "source": [
        "#to check whether number is prime\n",
        "b = int(input())\n",
        "f=0\n",
        "for i in range(2,b):\n",
        "  if b%i == 0:\n",
        "    f = f + 1;\n",
        "if f == 0:\n",
        "  print(\"prime\")\n",
        "else:\n",
        "  print(\"not prime\")\n",
        ""
      ]
    },
    {
      "cell_type": "code",
      "source": [
        "#fibonacci sequence\n",
        "'''\n",
        "def fibo(n):\n",
        "  a = 0\n",
        "  b = 1\n",
        "  if n == 1:\n",
        "    print(a)\n",
        "  else:\n",
        "    print(a)\n",
        "    print(b)\n",
        "    for i in range(2,n):\n",
        "      c = a + b\n",
        "      a = b\n",
        "      b = c\n",
        "      print(c)\n",
        "'''\n",
        "def fibo(n):\n",
        "  if n ==1:\n",
        "    return 0\n",
        "  elif n == 2:\n",
        "    return 1\n",
        "  else:\n",
        "    return fibo(n-1) + fibo(n-2)\n",
        "a = int(input())\n",
        "fibo(a)"
      ],
      "metadata": {
        "colab": {
          "base_uri": "https://localhost:8080/"
        },
        "id": "KHhsjpa2u4nK",
        "outputId": "7c01bf14-a808-4efa-8ec3-24183784b3a6"
      },
      "execution_count": 26,
      "outputs": [
        {
          "name": "stdout",
          "output_type": "stream",
          "text": [
            "10\n"
          ]
        },
        {
          "output_type": "execute_result",
          "data": {
            "text/plain": [
              "34"
            ]
          },
          "metadata": {},
          "execution_count": 26
        }
      ]
    },
    {
      "cell_type": "code",
      "source": [
        "#lcm and gcd\n",
        "a = int(input())\n",
        "b = int(input())\n",
        "def gcd(a,b):\n",
        "  l=0\n",
        "  for i in range(1,min(a,b)+1):\n",
        "    if a%i == 0 and b%i == 0:\n",
        "      l = i\n",
        "  return l\n",
        "print(gcd(a,b))\n",
        "l = gcd(a,b)\n",
        "lcm = (a*b)/l\n",
        "print(int(lcm))"
      ],
      "metadata": {
        "colab": {
          "base_uri": "https://localhost:8080/"
        },
        "id": "Gateqxz4zxaC",
        "outputId": "38c74a08-2fe8-46ff-dbf5-1685554f9be1"
      },
      "execution_count": 29,
      "outputs": [
        {
          "output_type": "stream",
          "name": "stdout",
          "text": [
            "4\n",
            "2\n",
            "2\n",
            "4\n"
          ]
        }
      ]
    },
    {
      "cell_type": "code",
      "source": [
        "#calculator\n",
        "a=int(input())\n",
        "b=int(input())\n",
        "print(\"enter option 1 for add 2 for sub 3 for mul 4 for div\")\n",
        "c=int(input())\n",
        "def add(a,b):\n",
        "  return a+b\n",
        "def sub(a,b):\n",
        "  return a-b\n",
        "def mul(a,b):\n",
        "  return a*b\n",
        "def div(a,b):\n",
        "  return a/b\n",
        "if c==1:\n",
        "  print(add(a,b))\n",
        "elif c==2:\n",
        "  print(sub(a,b))\n",
        "elif c==3:\n",
        "  print(mul(a,b))\n",
        "elif c==4:\n",
        "  print(div(a,b))\n",
        "else:\n",
        "  print(\"invalid option\")"
      ],
      "metadata": {
        "colab": {
          "base_uri": "https://localhost:8080/"
        },
        "id": "EUMJY_B13I0K",
        "outputId": "5cf94283-a2fc-4e0e-a187-bcc9b304c3ea"
      },
      "execution_count": 32,
      "outputs": [
        {
          "output_type": "stream",
          "name": "stdout",
          "text": [
            "4\n",
            "3\n",
            "enter option 1 for add 2 for sub 3 for mul 4 for div\n",
            "1\n",
            "7\n"
          ]
        }
      ]
    },
    {
      "cell_type": "code",
      "source": [
        "# output without duplicates\n",
        "list = input().split()\n",
        "set1= set(list)\n",
        "print(set1)"
      ],
      "metadata": {
        "colab": {
          "base_uri": "https://localhost:8080/"
        },
        "id": "HLgTCvnk5hUa",
        "outputId": "034ac16a-53ae-41c3-f0ed-fcad067b92d4"
      },
      "execution_count": 38,
      "outputs": [
        {
          "output_type": "stream",
          "name": "stdout",
          "text": [
            "1 2 3 2 1\n",
            "{'2', '1', '3'}\n"
          ]
        }
      ]
    },
    {
      "cell_type": "code",
      "source": [
        "from os import name\n",
        "#create dictionary\n",
        "thisdict = {\n",
        "      \"name\":\"amulya\",\n",
        "      \"age\":18,\n",
        "      \"gender\":\"female\",\n",
        "      \"phone\":9000353549,\n",
        "      \"email\":\"xyz\"\n",
        "  }\n",
        "print(thisdict)"
      ],
      "metadata": {
        "colab": {
          "base_uri": "https://localhost:8080/"
        },
        "id": "KQZjBjBu5hwr",
        "outputId": "dacf4ab5-d81a-4c89-cdbc-1babcec8d673"
      },
      "execution_count": 51,
      "outputs": [
        {
          "output_type": "stream",
          "name": "stdout",
          "text": [
            "{'name': 'amulya', 'age': 18, 'gender': 'female', 'phone': 9000353549, 'email': 'xyz'}\n"
          ]
        }
      ]
    },
    {
      "cell_type": "code",
      "source": [
        "#matrix operations\n",
        "import numpy as np\n",
        "a = np.array([[1,2,3],[4,5,6],[7,8,9]])\n",
        "b = np.array([[1,2,3],[4,5,6],[7,8,9]])\n",
        "print(\"matrix-1:\\n\",a)\n",
        "print(\"matrix-2:\\n\",b)\n",
        "result1 = np.add(a,b)\n",
        "result2 = np.dot(a,b)\n",
        "print(\"addition:\\n\",result1)\n",
        "print(\"multiplication:\\n\",result2)"
      ],
      "metadata": {
        "colab": {
          "base_uri": "https://localhost:8080/"
        },
        "id": "uuz6AEX69f5w",
        "outputId": "6f5468d4-fa79-4938-f07e-07ab143da0ee"
      },
      "execution_count": 52,
      "outputs": [
        {
          "output_type": "stream",
          "name": "stdout",
          "text": [
            "matrix-1:\n",
            " [[1 2 3]\n",
            " [4 5 6]\n",
            " [7 8 9]]\n",
            "matrix-2:\n",
            " [[1 2 3]\n",
            " [4 5 6]\n",
            " [7 8 9]]\n",
            "addition:\n",
            " [[ 2  4  6]\n",
            " [ 8 10 12]\n",
            " [14 16 18]]\n",
            "multiplication:\n",
            " [[ 30  36  42]\n",
            " [ 66  81  96]\n",
            " [102 126 150]]\n"
          ]
        }
      ]
    },
    {
      "cell_type": "code",
      "source": [
        "m"
      ],
      "metadata": {
        "id": "2f-dAv8mFX5I"
      },
      "execution_count": null,
      "outputs": []
    },
    {
      "cell_type": "code",
      "source": [
        "from itertools import count\n",
        "#find common word\n",
        "import numpy as np\n",
        "a=input(\"text: \")\n",
        "count = np.zeros(len(a))\n",
        "word= a.split()\n",
        "for i in range(len(word)):\n",
        "  for j in range(i+1,len(word)):\n",
        "    if word[i]==word[j]:\n",
        "      count[i]=count[i]+1\n",
        "large = 0\n",
        "for i in range(0,len(word)):\n",
        "  if count[i]>count[large]:\n",
        "    large = i\n",
        "print(word[large])\n",
        "\n",
        "\n",
        ""
      ],
      "metadata": {
        "colab": {
          "base_uri": "https://localhost:8080/"
        },
        "id": "USSuFdBb_eOB",
        "outputId": "7b058497-a986-4e0d-b6f7-c9fd71574275"
      },
      "execution_count": 69,
      "outputs": [
        {
          "output_type": "stream",
          "name": "stdout",
          "text": [
            "text: nice nice god job\n",
            "nice\n"
          ]
        }
      ]
    },
    {
      "cell_type": "code",
      "source": [
        "import random\n",
        "import string\n",
        "#random password\n",
        "l=int(input(\"number of characters in password: \"))\n",
        "random_string = ''.join(random.choice(string.ascii_letters) for i in range(l))\n",
        "print(random_string)\n",
        "\n",
        "\n"
      ],
      "metadata": {
        "colab": {
          "base_uri": "https://localhost:8080/"
        },
        "id": "O7d7PexcFnhI",
        "outputId": "d89f749f-997d-41ff-df99-edce6fb29de6"
      },
      "execution_count": 74,
      "outputs": [
        {
          "output_type": "stream",
          "name": "stdout",
          "text": [
            "number of characters in password: 4\n",
            "USMz\n"
          ]
        }
      ]
    }
  ]
}